{
 "cells": [
  {
   "cell_type": "markdown",
   "id": "0710d7a2",
   "metadata": {},
   "source": [
    "# Analytical Review of Employment Trends in the European Labour Market"
   ]
  },
  {
   "cell_type": "code",
   "execution_count": 8,
   "id": "581c7607",
   "metadata": {},
   "outputs": [],
   "source": [
    "# Importing Libraries for the project\n",
    "import gzip\n",
    "import shutil\n",
    "import pandas as pd\n",
    "import seaborn as sns\n",
    "from IPython.display import display\n",
    "import matplotlib.pyplot as plt\n",
    "from sklearn.model_selection import train_test_split\n",
    "from sklearn.linear_model import LinearRegression\n",
    "from sklearn.metrics import mean_squared_error, r2_score"
   ]
  },
  {
   "cell_type": "code",
   "execution_count": 9,
   "id": "a67739c6",
   "metadata": {},
   "outputs": [],
   "source": [
    "# Path to the .gz file and the output CSV file\n",
    "gz_file_path = 'lfsq_ergacob_linear.csv.gz'\n",
    "csv_file_path = 'lfsq_ergacob_linear.csv'\n",
    "\n",
    "# Extracting the .gz file\n",
    "with gzip.open(gz_file_path, 'rb') as f_in:\n",
    "    with open(csv_file_path, 'wb') as f_out:\n",
    "        shutil.copyfileobj(f_in, f_out)\n",
    "\n",
    "# Loading the data\n",
    "df = pd.read_csv(csv_file_path)"
   ]
  },
  {
   "cell_type": "code",
   "execution_count": null,
   "id": "47149b37",
   "metadata": {},
   "outputs": [],
   "source": []
  },
  {
   "cell_type": "code",
   "execution_count": null,
   "id": "f829d805",
   "metadata": {},
   "outputs": [],
   "source": []
  },
  {
   "cell_type": "code",
   "execution_count": null,
   "id": "66bdf693",
   "metadata": {},
   "outputs": [],
   "source": []
  }
 ],
 "metadata": {
  "kernelspec": {
   "display_name": "Python 3 (ipykernel)",
   "language": "python",
   "name": "python3"
  },
  "language_info": {
   "codemirror_mode": {
    "name": "ipython",
    "version": 3
   },
   "file_extension": ".py",
   "mimetype": "text/x-python",
   "name": "python",
   "nbconvert_exporter": "python",
   "pygments_lexer": "ipython3",
   "version": "3.11.4"
  }
 },
 "nbformat": 4,
 "nbformat_minor": 5
}
