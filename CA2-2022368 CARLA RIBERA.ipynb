{
 "cells": [
  {
   "cell_type": "markdown",
   "id": "b3aecdb7",
   "metadata": {},
   "source": [
    "# Analytical Review of Employment Trends in the European Labour Market"
   ]
  },
  {
   "cell_type": "code",
   "execution_count": 11,
   "id": "c3b4b730",
   "metadata": {},
   "outputs": [],
   "source": [
    "# Importing Libraries for the project\n",
    "import gzip\n",
    "import shutil\n",
    "import pandas as pd\n",
    "import seaborn as sns\n",
    "from IPython.display import display\n",
    "import matplotlib.pyplot as plt\n",
    "from sklearn.model_selection import train_test_split\n",
    "from sklearn.linear_model import LinearRegression\n",
    "from sklearn.metrics import mean_squared_error, r2_score"
   ]
  },
  {
   "cell_type": "code",
   "execution_count": 12,
   "id": "39576b29",
   "metadata": {},
   "outputs": [],
   "source": [
    "# Path to the .gz file and the output CSV file\n",
    "gz_file_path = 'lfsq_ergacob_linear.csv.gz'\n",
    "csv_file_path = 'lfsq_ergacob_linear.csv'\n",
    "\n",
    "# Extracting the .gz file\n",
    "with gzip.open(gz_file_path, 'rb') as f_in:\n",
    "    with open(csv_file_path, 'wb') as f_out:\n",
    "        shutil.copyfileobj(f_in, f_out)\n",
    "\n",
    "# Loading the data\n",
    "df = pd.read_csv(csv_file_path)"
   ]
  },
  {
   "cell_type": "code",
   "execution_count": 13,
   "id": "d541862b",
   "metadata": {},
   "outputs": [],
   "source": [
    "# Cleaning the dataset\n",
    "df_cleaned = df.dropna(subset=['OBS_VALUE'])  # Dropping rows with missing OBS_VALUE\n",
    "df_cleaned = df_cleaned.drop(columns=['OBS_FLAG', 'DATAFLOW', 'LAST UPDATE'])  # Dropping unnecessary columns\n",
    "\n",
    "# Converting TIME_PERIOD to datetime and handle the quarterly format\n",
    "df_cleaned['TIME_PERIOD'] = pd.to_datetime(df_cleaned['TIME_PERIOD'].str.replace(r'Q(\\d)', r'-\\1', regex=True), errors='coerce')"
   ]
  },
  {
   "cell_type": "code",
   "execution_count": null,
   "id": "0b689e7a",
   "metadata": {},
   "outputs": [],
   "source": []
  },
  {
   "cell_type": "code",
   "execution_count": null,
   "id": "1be6443a",
   "metadata": {},
   "outputs": [],
   "source": []
  }
 ],
 "metadata": {
  "kernelspec": {
   "display_name": "Python 3 (ipykernel)",
   "language": "python",
   "name": "python3"
  },
  "language_info": {
   "codemirror_mode": {
    "name": "ipython",
    "version": 3
   },
   "file_extension": ".py",
   "mimetype": "text/x-python",
   "name": "python",
   "nbconvert_exporter": "python",
   "pygments_lexer": "ipython3",
   "version": "3.11.4"
  }
 },
 "nbformat": 4,
 "nbformat_minor": 5
}
